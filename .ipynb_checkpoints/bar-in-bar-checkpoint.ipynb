{
 "cells": [
  {
   "cell_type": "markdown",
   "metadata": {},
   "source": [
    "# Bar-in-Bar Chart"
   ]
  },
  {
   "cell_type": "code",
   "execution_count": 1,
   "metadata": {},
   "outputs": [],
   "source": [
    "# import library\n",
    "import pandas as pd\n",
    "import matplotlib.pyplot as plt\n",
    "import numpy as np"
   ]
  },
  {
   "cell_type": "code",
   "execution_count": 2,
   "metadata": {},
   "outputs": [],
   "source": [
    "# import data\n",
    "data_proteins = {\n",
    "    'animal': ['Mouse', 'Chicken', 'Goat', 'Canine', 'Guinea Pig'],\n",
    "    'dep_total': [358, 257, 226, 220, 185],\n",
    "    'dep1': [348, 245, 216, 212, 183],\n",
    "    'dep2': [349, 242, 218, 207, 182],\n",
    "    'dep3': [338, 247, 221, 209, 174],\n",
    "    'undep_total': [251, 221, 153, 176, 152],\n",
    "    'undep1': [236, 204, 142, 160, 141],\n",
    "    'undep2': [238, 206, 141, 163, 145],\n",
    "    'undep3': [233, 211, 148, 167, 144],\n",
    "}\n",
    "\n",
    "df_proteins = pd.DataFrame(data_proteins)\n",
    "\n",
    "\n",
    "data_peptides = {\n",
    "    'animal': ['Mouse', 'Chicken', 'Goat', 'Canine', 'Guinea Pig'],\n",
    "    'dep_total': [3105, 2605, 1895, 2183, 2276],\n",
    "    'dep1': [2830, 2365, 1727, 1998, 2069],\n",
    "    'dep2': [2882, 2357, 1724, 2002, 2081],\n",
    "    'dep3': [2852, 2377, 1720, 1995, 2060],\n",
    "    'undep_total': [2159, 2139, 763, 1661, 1727],\n",
    "    'undep1': [1960, 1932, 679, 1476, 1544],\n",
    "    'undep2': [1940, 1934, 681, 1475, 1546],\n",
    "    'undep3': [1923, 1918, 690, 1458, 1565]\n",
    "}\n",
    "\n",
    "df_peptides = pd.DataFrame(data_peptides)"
   ]
  },
  {
   "cell_type": "code",
   "execution_count": 81,
   "metadata": {},
   "outputs": [],
   "source": [
    "def draw_bar_in_bar_chart(df, \n",
    "                              chart_name, \n",
    "                              inner_color_dep, \n",
    "                              inner_color_undep, \n",
    "                              outer_color_dep,\n",
    "                              outer_color_undep):\n",
    "    # Calculate means and standard deviations\n",
    "    dep_means = df[['dep1', 'dep2', 'dep3']].mean(axis=1)\n",
    "    undep_means = df[['undep1', 'undep2', 'undep3']].mean(axis=1)\n",
    "    dep_std = df[['dep1', 'dep2', 'dep3']].std(axis=1)\n",
    "    undep_std = df[['undep1', 'undep2', 'undep3']].std(axis=1)\n",
    "\n",
    "    # Create a figure and axis\n",
    "    fig, ax = plt.subplots()\n",
    "\n",
    "    # Width of the outer and inner bars\n",
    "    width_outer = 0.3\n",
    "    width_inner = 0.1\n",
    "    spacing = 0.1 # Additional spacing between bars\n",
    "\n",
    "    # Set positions for the bars\n",
    "    ind = np.arange(len(df['animal']))\n",
    "    ind_inner = ind + spacing\n",
    "\n",
    "    # Plot outer bars\n",
    "    rects1 = ax.bar(ind - width_outer / 2, \n",
    "                    df['dep_total'], \n",
    "                    width_outer, \n",
    "                    label='Kit-Depleted Total', \n",
    "                    color=outer_color_dep, \n",
    "                    edgecolor='black', \n",
    "                    linewidth = 1)\n",
    "    rects2 = ax.bar(ind + width_outer / 2 + spacing, \n",
    "                    df['undep_total'], \n",
    "                    width_outer, \n",
    "                    label='Undepleted Total', \n",
    "                    color=outer_color_undep, \n",
    "                    edgecolor='black', \n",
    "                    linewidth = 1)\n",
    "\n",
    "    # Plot inner bars\n",
    "    rects3 = ax.bar(ind - width_outer / 2, \n",
    "                    dep_means, \n",
    "                    width_inner, \n",
    "                    label='Kit-Depleted Individual', \n",
    "                    color=inner_color_dep, \n",
    "                    edgecolor='black', \n",
    "                    linewidth = 1)\n",
    "    ax.errorbar(ind - width_outer / 2, \n",
    "                dep_means, \n",
    "                yerr=dep_std, \n",
    "                fmt='none', \n",
    "                color='black', \n",
    "                capsize=2, \n",
    "                elinewidth=1)\n",
    "    rects4 = ax.bar(ind + width_outer / 2 + spacing, \n",
    "                    undep_means, \n",
    "                    width_inner,  \n",
    "                    label='Undepleted Individual', \n",
    "                    color=inner_color_undep, #light blue\n",
    "                    edgecolor='black', \n",
    "                    capsize=2, \n",
    "                    linewidth = 1)\n",
    "    ax.errorbar(ind + width_outer / 2 + spacing, \n",
    "                undep_means, \n",
    "                yerr=undep_std, \n",
    "                fmt='none', \n",
    "                color='black', \n",
    "                capsize=2, \n",
    "                elinewidth=1)\n",
    "    # Add labels, title and legend\n",
    "    ax.set_ylabel('No. of '+ chart_name)\n",
    "    ax.set_xticks(ind + spacing / 2)\n",
    "    ax.set_xticklabels(df['animal'])\n",
    "    ax.legend(frameon=False)\n",
    "    plt.savefig(chart_name+'.svg', format = 'svg', dpi=300)\n",
    "    plt.show()\n",
    "\n",
    "\n",
    "\n"
   ]
  },
  {
   "cell_type": "code",
   "execution_count": 82,
   "metadata": {},
   "outputs": [
    {
     "data": {
      "image/png": "[encoded data removed]",
      "text/plain": [
       "<Figure size 432x288 with 1 Axes>"
      ]
     },
     "metadata": {
      "needs_background": "light"
     },
     "output_type": "display_data"
    }
   ],
   "source": [
    "draw_bar_in_bar_chart(df_proteins, \n",
    "                          'Proteins', \n",
    "                          '#FA9884', \n",
    "                          '#75C2F6', \n",
    "                          'red', \n",
    "                          'blue')"
   ]
  },
  {
   "cell_type": "code",
   "execution_count": 83,
   "metadata": {},
   "outputs": [
    {
     "data": {
      "image/png": "[encoded data removed]",
      "text/plain": [
       "<Figure size 432x288 with 1 Axes>"
      ]
     },
     "metadata": {
      "needs_background": "light"
     },
     "output_type": "display_data"
    }
   ],
   "source": [
    "draw_bar_in_bar_chart(df_peptides, \n",
    "                          'Peptides', \n",
    "                          '#ffebcd', #light yellow\n",
    "                          '#aab29f', #light green\n",
    "                          '#ffc125', #yellow\n",
    "                          '#1f5514') #green"
   ]
  },
  {
   "cell_type": "code",
   "execution_count": null,
   "metadata": {},
   "outputs": [],
   "source": []
  }
 ],
 "metadata": {
  "kernelspec": {
   "display_name": "Python 3",
   "language": "python",
   "name": "python3"
  },
  "language_info": {
   "codemirror_mode": {
    "name": "ipython",
    "version": 3
   },
   "file_extension": ".py",
   "mimetype": "text/x-python",
   "name": "python",
   "nbconvert_exporter": "python",
   "pygments_lexer": "ipython3",
   "version": "3.8.5"
  }
 },
 "nbformat": 4,
 "nbformat_minor": 4
}
